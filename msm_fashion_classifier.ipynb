{
  "nbformat": 4,
  "nbformat_minor": 0,
  "metadata": {
    "colab": {
      "name": "msm_fashion_classifier.ipynb",
      "provenance": [],
      "collapsed_sections": [],
      "authorship_tag": "ABX9TyMw9pztyykXuxvETziGDEbP",
      "include_colab_link": true
    },
    "kernelspec": {
      "name": "python3",
      "display_name": "Python 3"
    },
    "language_info": {
      "name": "python"
    },
    "accelerator": "GPU"
  },
  "cells": [
    {
      "cell_type": "markdown",
      "metadata": {
        "id": "view-in-github",
        "colab_type": "text"
      },
      "source": [
        "<a href=\"https://colab.research.google.com/github/AhmedHedib/Object_Classification/blob/main/msm_fashion_classifier.ipynb\" target=\"_parent\"><img src=\"https://colab.research.google.com/assets/colab-badge.svg\" alt=\"Open In Colab\"/></a>"
      ]
    },
    {
      "cell_type": "code",
      "execution_count": 8,
      "metadata": {
        "id": "kickNnzzEA2b"
      },
      "outputs": [],
      "source": [
        "import tensorflow as tf\n",
        "from tensorflow import keras\n",
        "from keras import datasets\n"
      ]
    },
    {
      "cell_type": "code",
      "source": [
        "(x_train,y_train),(x_test,y_test)=keras.datasets.fashion_mnist.load_data()\n",
        "print(x_train.shape,x_test.shape,y_train.shape,y_test.shape)\n"
      ],
      "metadata": {
        "colab": {
          "base_uri": "https://localhost:8080/"
        },
        "id": "ycpyVOCZEU0P",
        "outputId": "108d7a91-c071-4f19-e4e4-be937854bb6b"
      },
      "execution_count": 10,
      "outputs": [
        {
          "output_type": "stream",
          "name": "stdout",
          "text": [
            "Downloading data from https://storage.googleapis.com/tensorflow/tf-keras-datasets/train-labels-idx1-ubyte.gz\n",
            "32768/29515 [=================================] - 0s 0us/step\n",
            "40960/29515 [=========================================] - 0s 0us/step\n",
            "Downloading data from https://storage.googleapis.com/tensorflow/tf-keras-datasets/train-images-idx3-ubyte.gz\n",
            "26427392/26421880 [==============================] - 0s 0us/step\n",
            "26435584/26421880 [==============================] - 0s 0us/step\n",
            "Downloading data from https://storage.googleapis.com/tensorflow/tf-keras-datasets/t10k-labels-idx1-ubyte.gz\n",
            "16384/5148 [===============================================================================================] - 0s 0us/step\n",
            "Downloading data from https://storage.googleapis.com/tensorflow/tf-keras-datasets/t10k-images-idx3-ubyte.gz\n",
            "4423680/4422102 [==============================] - 0s 0us/step\n",
            "4431872/4422102 [==============================] - 0s 0us/step\n",
            "(60000, 28, 28) (10000, 28, 28) (60000,) (10000,)\n"
          ]
        }
      ]
    },
    {
      "cell_type": "code",
      "source": [
        "x_train=x_train.reshape(x_train.shape[0],28,28,1)\n",
        "import matplotlib.pyplot as plt\n",
        "print(x_train.shape[0])\n",
        "x_test=x_test.reshape(x_test.shape[0],28,28,1)\n",
        "# plt.imshow(x_train[0])\n",
        "# plt.figure(figsize=(2,5))#width and height in inches \n",
        "# plt.imshow(x_train[0])\n"
      ],
      "metadata": {
        "colab": {
          "base_uri": "https://localhost:8080/"
        },
        "id": "W0q6IH4fDf4l",
        "outputId": "b84f9b0f-16e9-4ed4-ad50-f5dd24a20718"
      },
      "execution_count": 12,
      "outputs": [
        {
          "output_type": "stream",
          "name": "stdout",
          "text": [
            "60000\n"
          ]
        }
      ]
    },
    {
      "cell_type": "code",
      "source": [
        "x_train=x_train.reshape(x_train.shape[0],28,28,1)\n",
        "x_test=x_test.reshape(x_test.shape[0],28,28,1)\n",
        "# print(x_train.shape)\n",
        "#normalization\n",
        "x_train=x_train.astype('float32')/255.0\n",
        "x_test=x_test.astype('float32')/255.0\n",
        "import tensorflow as tf\n",
        "y_train=keras.utils.to_categorical(y_train,10)\n",
        "y_test=keras.utils.to_categorical(y_test,10)\n"
      ],
      "metadata": {
        "id": "n_1F4znPDriC"
      },
      "execution_count": 13,
      "outputs": []
    },
    {
      "cell_type": "code",
      "source": [
        "from keras.layers import Conv2D,MaxPool2D,Dense,Flatten,Dropout\n",
        "from keras.models import Sequential\n",
        "model=Sequential()\n",
        "model.add(Conv2D(32,(3,3),activation='relu',input_shape=(28,28,1)))\n",
        "model.add(Conv2D(64,(3,3),activation='relu'))\n",
        "model.add(MaxPool2D(2,2))\n",
        "model.add(Flatten())\n",
        "model.add(Dense(128,activation='relu'))\n",
        "model.add(Dropout(0.2))\n",
        "model.add(Dense(10,activation='softmax'))\n",
        "model.summary()\n"
      ],
      "metadata": {
        "colab": {
          "base_uri": "https://localhost:8080/"
        },
        "id": "gD4j4PZiFUar",
        "outputId": "8fb38a2c-88a7-4885-ef34-85e2163e0118"
      },
      "execution_count": 14,
      "outputs": [
        {
          "output_type": "stream",
          "name": "stdout",
          "text": [
            "Model: \"sequential\"\n",
            "_________________________________________________________________\n",
            " Layer (type)                Output Shape              Param #   \n",
            "=================================================================\n",
            " conv2d (Conv2D)             (None, 26, 26, 32)        320       \n",
            "                                                                 \n",
            " conv2d_1 (Conv2D)           (None, 24, 24, 64)        18496     \n",
            "                                                                 \n",
            " max_pooling2d (MaxPooling2D  (None, 12, 12, 64)       0         \n",
            " )                                                               \n",
            "                                                                 \n",
            " flatten (Flatten)           (None, 9216)              0         \n",
            "                                                                 \n",
            " dense (Dense)               (None, 128)               1179776   \n",
            "                                                                 \n",
            " dropout (Dropout)           (None, 128)               0         \n",
            "                                                                 \n",
            " dense_1 (Dense)             (None, 10)                1290      \n",
            "                                                                 \n",
            "=================================================================\n",
            "Total params: 1,199,882\n",
            "Trainable params: 1,199,882\n",
            "Non-trainable params: 0\n",
            "_________________________________________________________________\n"
          ]
        }
      ]
    },
    {
      "cell_type": "code",
      "source": [
        "model.compile(optimizer='adam',loss='categorical_crossentropy',metrics=['accuracy'])\n",
        "# model.compile(optimizer='adam',loss = tf.keras.losses.SparseCategoricalCrossentropy(from_logits=True), metrics=['accuracy'])"
      ],
      "metadata": {
        "id": "v5lWnjtQHdlw"
      },
      "execution_count": 16,
      "outputs": []
    },
    {
      "cell_type": "code",
      "source": [
        "model.fit(x_train,y_train,epochs=10,validation_data=(x_test,y_test),batch_size=64,verbose=2)\n"
      ],
      "metadata": {
        "colab": {
          "base_uri": "https://localhost:8080/"
        },
        "id": "pUG8v2iGHcON",
        "outputId": "da5bfb72-52fc-4fdd-8d7d-22838f6f7080"
      },
      "execution_count": 17,
      "outputs": [
        {
          "output_type": "stream",
          "name": "stdout",
          "text": [
            "Epoch 1/10\n",
            "938/938 - 19s - loss: 0.4221 - accuracy: 0.8497 - val_loss: 0.3043 - val_accuracy: 0.8919 - 19s/epoch - 20ms/step\n",
            "Epoch 2/10\n",
            "938/938 - 8s - loss: 0.2670 - accuracy: 0.9038 - val_loss: 0.2827 - val_accuracy: 0.8987 - 8s/epoch - 9ms/step\n",
            "Epoch 3/10\n",
            "938/938 - 8s - loss: 0.2198 - accuracy: 0.9184 - val_loss: 0.2440 - val_accuracy: 0.9110 - 8s/epoch - 9ms/step\n",
            "Epoch 4/10\n",
            "938/938 - 8s - loss: 0.1838 - accuracy: 0.9308 - val_loss: 0.2220 - val_accuracy: 0.9202 - 8s/epoch - 9ms/step\n",
            "Epoch 5/10\n",
            "938/938 - 8s - loss: 0.1535 - accuracy: 0.9430 - val_loss: 0.2255 - val_accuracy: 0.9212 - 8s/epoch - 9ms/step\n",
            "Epoch 6/10\n",
            "938/938 - 8s - loss: 0.1302 - accuracy: 0.9509 - val_loss: 0.2215 - val_accuracy: 0.9262 - 8s/epoch - 9ms/step\n",
            "Epoch 7/10\n",
            "938/938 - 8s - loss: 0.1059 - accuracy: 0.9608 - val_loss: 0.2334 - val_accuracy: 0.9263 - 8s/epoch - 9ms/step\n",
            "Epoch 8/10\n",
            "938/938 - 9s - loss: 0.0881 - accuracy: 0.9677 - val_loss: 0.2601 - val_accuracy: 0.9234 - 9s/epoch - 9ms/step\n",
            "Epoch 9/10\n",
            "938/938 - 9s - loss: 0.0741 - accuracy: 0.9719 - val_loss: 0.2739 - val_accuracy: 0.9247 - 9s/epoch - 10ms/step\n",
            "Epoch 10/10\n",
            "938/938 - 9s - loss: 0.0632 - accuracy: 0.9766 - val_loss: 0.3149 - val_accuracy: 0.9223 - 9s/epoch - 10ms/step\n"
          ]
        },
        {
          "output_type": "execute_result",
          "data": {
            "text/plain": [
              "<keras.callbacks.History at 0x7f47204cdd50>"
            ]
          },
          "metadata": {},
          "execution_count": 17
        }
      ]
    },
    {
      "cell_type": "code",
      "source": [
        "score=model.evaluate(x_test,y_test)\n",
        "print('Accuracy of the model is : % ',score[1]*100)"
      ],
      "metadata": {
        "colab": {
          "base_uri": "https://localhost:8080/"
        },
        "id": "Sk2Iqys5TlGk",
        "outputId": "a1dcb0d7-7994-4942-d030-5458a4514a0b"
      },
      "execution_count": 18,
      "outputs": [
        {
          "output_type": "stream",
          "name": "stdout",
          "text": [
            "313/313 [==============================] - 1s 4ms/step - loss: 0.3149 - accuracy: 0.9223\n",
            "Accuracy of the model is : %  92.22999811172485\n"
          ]
        }
      ]
    },
    {
      "cell_type": "code",
      "source": [
        "class_names=['T-shirt','Trouser','Pullover',\n",
        "             'Dress','Coat','Sandal','Shirt'\n",
        "             ,'Sneaker','Bag','Ankle boot']\n",
        "model.save('f_mnist_model')"
      ],
      "metadata": {
        "colab": {
          "base_uri": "https://localhost:8080/"
        },
        "id": "lcQWA3kMbqFn",
        "outputId": "0343b71f-e182-40a2-b5de-1295a27e9c2e"
      },
      "execution_count": 19,
      "outputs": [
        {
          "output_type": "stream",
          "name": "stdout",
          "text": [
            "INFO:tensorflow:Assets written to: f_mnist_model/assets\n"
          ]
        }
      ]
    },
    {
      "cell_type": "code",
      "source": [
        "import numpy as np\n",
        "from keras.models import load_model\n",
        "model=load_model('/content/f_mnist_model')\n",
        "from keras.preprocessing.image import load_img,img_to_array\n",
        "def call_img(file_name):\n",
        "  img=load_img(file_name,grayscale=True,target_size=(28,28))\n",
        "  img=img_to_array(img)\n",
        "  img=img.reshape(1,28,28,1)\n",
        "  img=img.astype('float32')/255.0\n",
        "  res=model.predict(img)\n",
        "  num=np.where(res==np.amax(res))\n",
        "  return num[1]\n",
        "print('The predicted result is : ')\n",
        "call_img('/pullover.PNG')"
      ],
      "metadata": {
        "colab": {
          "base_uri": "https://localhost:8080/"
        },
        "id": "tepH1atLVpGq",
        "outputId": "ab5f362c-ec0b-4e12-ad26-d852b7c8ee05"
      },
      "execution_count": 25,
      "outputs": [
        {
          "output_type": "stream",
          "name": "stdout",
          "text": [
            "The predicted result is : \n",
            "WARNING:tensorflow:6 out of the last 6 calls to <function Model.make_predict_function.<locals>.predict_function at 0x7f4634641290> triggered tf.function retracing. Tracing is expensive and the excessive number of tracings could be due to (1) creating @tf.function repeatedly in a loop, (2) passing tensors with different shapes, (3) passing Python objects instead of tensors. For (1), please define your @tf.function outside of the loop. For (2), @tf.function has experimental_relax_shapes=True option that relaxes argument shapes that can avoid unnecessary retracing. For (3), please refer to https://www.tensorflow.org/guide/function#controlling_retracing and https://www.tensorflow.org/api_docs/python/tf/function for  more details.\n"
          ]
        },
        {
          "output_type": "stream",
          "name": "stderr",
          "text": [
            "/usr/local/lib/python3.7/dist-packages/keras_preprocessing/image/utils.py:107: UserWarning: grayscale is deprecated. Please use color_mode = \"grayscale\"\n",
            "  warnings.warn('grayscale is deprecated. Please use '\n"
          ]
        },
        {
          "output_type": "execute_result",
          "data": {
            "text/plain": [
              "array([8])"
            ]
          },
          "metadata": {},
          "execution_count": 25
        }
      ]
    }
  ]
}